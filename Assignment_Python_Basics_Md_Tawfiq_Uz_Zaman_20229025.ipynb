{
  "nbformat": 4,
  "nbformat_minor": 0,
  "metadata": {
    "colab": {
      "provenance": []
    },
    "kernelspec": {
      "name": "python3",
      "display_name": "Python 3"
    },
    "language_info": {
      "name": "python"
    }
  },
  "cells": [
    {
      "cell_type": "markdown",
      "source": [
        "Problem 1\n"
      ],
      "metadata": {
        "id": "V-yoRGq_RsfV"
      }
    },
    {
      "cell_type": "code",
      "execution_count": 1,
      "metadata": {
        "colab": {
          "base_uri": "https://localhost:8080/"
        },
        "id": "7TqmtMu6Rmj2",
        "outputId": "75214b83-95a0-4da4-a955-94f10af8d903"
      },
      "outputs": [
        {
          "output_type": "stream",
          "name": "stdout",
          "text": [
            "{'g': 2, 'o': 3, 'l': 1, 'e': 1, '.': 1, 'c': 1, 'm': 1}\n"
          ]
        }
      ],
      "source": [
        "def char_counter(str1):\n",
        "    dict = {}\n",
        "    for x in str1:\n",
        "        keys = dict.keys()\n",
        "        if x in keys:\n",
        "            dict[x] += 1\n",
        "        else:\n",
        "            dict[x] = 1\n",
        "    return dict\n",
        "print(char_counter('google.com'))"
      ]
    },
    {
      "cell_type": "markdown",
      "source": [
        "Problem 2"
      ],
      "metadata": {
        "id": "rAXxt2nETF5n"
      }
    },
    {
      "cell_type": "code",
      "source": [
        "d = {1:12, 3:14, 5:10, 6: 16, 9:20, 12:30}\n",
        "def is_key_present(x):\n",
        "  if x in d:\n",
        "      print('Key present')\n",
        "  else:\n",
        "      print('Key is not present')\n",
        "is_key_present(2)\n",
        "is_key_present(9)"
      ],
      "metadata": {
        "colab": {
          "base_uri": "https://localhost:8080/"
        },
        "id": "tkIw4_hzTHfT",
        "outputId": "cd21b68a-77f2-4db9-8554-626d7d88cd43"
      },
      "execution_count": 2,
      "outputs": [
        {
          "output_type": "stream",
          "name": "stdout",
          "text": [
            "Key is not present\n",
            "Key present\n"
          ]
        }
      ]
    },
    {
      "cell_type": "markdown",
      "source": [
        "Problem 3"
      ],
      "metadata": {
        "id": "jpATzZZqU2yp"
      }
    },
    {
      "cell_type": "code",
      "source": [
        "values = input(\"Input some comma seprated numbers : \")\n",
        "list = values.split(\",\")\n",
        "tuple = tuple(list)\n",
        "print('List : ',list)\n",
        "print('Tuple : ',tuple)"
      ],
      "metadata": {
        "colab": {
          "base_uri": "https://localhost:8080/"
        },
        "id": "dVIgD0iyU5ai",
        "outputId": "fa2de243-45b0-4db1-ed2a-af3be03a2bcd"
      },
      "execution_count": 3,
      "outputs": [
        {
          "output_type": "stream",
          "name": "stdout",
          "text": [
            "Input some comma seprated numbers : 1,5,7,3\n",
            "List :  ['1', '5', '7', '3']\n",
            "Tuple :  ('1', '5', '7', '3')\n"
          ]
        }
      ]
    },
    {
      "cell_type": "markdown",
      "source": [
        "Problem 4\n"
      ],
      "metadata": {
        "id": "NjDpenm-VHs5"
      }
    },
    {
      "cell_type": "code",
      "source": [
        "from datetime import date\n",
        "f_date = date(1999, 1, 14)\n",
        "l_date = date(2023, 3, 30)\n",
        "delta = l_date - f_date\n",
        "print(delta.days, 'days')"
      ],
      "metadata": {
        "colab": {
          "base_uri": "https://localhost:8080/"
        },
        "id": "M87UeowMVHUb",
        "outputId": "53e179bc-efcb-44b5-a82e-254f36b618e8"
      },
      "execution_count": 4,
      "outputs": [
        {
          "output_type": "stream",
          "name": "stdout",
          "text": [
            "8841 days\n"
          ]
        }
      ]
    },
    {
      "cell_type": "markdown",
      "source": [
        "Problem 5\n"
      ],
      "metadata": {
        "id": "KWVs2wefWMS5"
      }
    },
    {
      "cell_type": "code",
      "source": [
        "def equation(x,y):\n",
        "  val = (x+y)\n",
        "  ans = val*val\n",
        "  return ans\n",
        "x=3\n",
        "y=3\n",
        "print('(',x,'+',y,')^ 2 =', equation(x,y))"
      ],
      "metadata": {
        "colab": {
          "base_uri": "https://localhost:8080/"
        },
        "id": "uDs5B1iAWN_b",
        "outputId": "38bebd5f-5cfa-4b78-eae0-dee57d761095"
      },
      "execution_count": 12,
      "outputs": [
        {
          "output_type": "stream",
          "name": "stdout",
          "text": [
            "( 3 + 3 )^ 2 = 36\n"
          ]
        }
      ]
    },
    {
      "cell_type": "markdown",
      "source": [
        "Problem 6"
      ],
      "metadata": {
        "id": "f75ACOLAXTTY"
      }
    },
    {
      "cell_type": "code",
      "source": [
        "p_amount = 10000\n",
        "interest_rate = 3.5\n",
        "years = 7\n",
        "future_value = p_amount*((1+(0.01*interest_rate)) ** years)\n",
        "print(round(future_value,2))"
      ],
      "metadata": {
        "colab": {
          "base_uri": "https://localhost:8080/"
        },
        "id": "_pzu4kUbXV8S",
        "outputId": "61ce2883-7829-4387-89e1-a0636f855ce1"
      },
      "execution_count": 13,
      "outputs": [
        {
          "output_type": "stream",
          "name": "stdout",
          "text": [
            "12722.79\n"
          ]
        }
      ]
    },
    {
      "cell_type": "markdown",
      "source": [
        "Problem 7\n"
      ],
      "metadata": {
        "id": "x2LMXL-lXxvq"
      }
    },
    {
      "cell_type": "code",
      "source": [
        "def remove_duplicates(nums):\n",
        "    for i in range (len(nums)-1, 0, -1):\n",
        "        if nums[i] == nums[i-1]:\n",
        "            del nums[i-1]\n",
        "    print('The list of unique numbers: ', nums)       \n",
        "    print('Length of the unique list: ', len(nums))\n",
        "    string=''\n",
        "    return string\n",
        "\n",
        "print(remove_duplicates([0,0,1,1,2,2,3,3,4,4,4]))"
      ],
      "metadata": {
        "colab": {
          "base_uri": "https://localhost:8080/"
        },
        "id": "xVGapD9XXy2G",
        "outputId": "01c73a50-81fa-4ef0-911c-33c9f7de70ff"
      },
      "execution_count": 24,
      "outputs": [
        {
          "output_type": "stream",
          "name": "stdout",
          "text": [
            "The list of unique numbers:  [0, 1, 2, 3, 4]\n",
            "Length of the unique list:  5\n",
            "\n"
          ]
        }
      ]
    },
    {
      "cell_type": "markdown",
      "source": [
        "Problem 8"
      ],
      "metadata": {
        "id": "qGxJoEK7ZFqW"
      }
    },
    {
      "cell_type": "code",
      "source": [
        "import operator\n",
        "d = {1: 2,  5: 6, 3: 4, 9: 10, 7: 8}\n",
        "print('Original version: ',d)\n",
        "sorted_d = sorted(d.items(), key=operator.itemgetter(1))\n",
        "print('Ascending order: ',sorted_d)\n",
        "sorted_d = dict( sorted(d.items(), key=operator.itemgetter(1),reverse=True))\n",
        "print('Descending order: ',sorted_d)"
      ],
      "metadata": {
        "colab": {
          "base_uri": "https://localhost:8080/"
        },
        "id": "o-FWH1-MZCQ3",
        "outputId": "5f0da839-491e-4bd2-e68f-58a3b43a39db"
      },
      "execution_count": 28,
      "outputs": [
        {
          "output_type": "stream",
          "name": "stdout",
          "text": [
            "Original version:  {1: 2, 5: 6, 3: 4, 9: 10, 7: 8}\n",
            "Ascending order:  [(1, 2), (3, 4), (5, 6), (7, 8), (9, 10)]\n",
            "Descending order:  {9: 10, 7: 8, 5: 6, 3: 4, 1: 2}\n"
          ]
        }
      ]
    },
    {
      "cell_type": "markdown",
      "source": [
        "Problem 9\n"
      ],
      "metadata": {
        "id": "pIchbd4tZqr4"
      }
    },
    {
      "cell_type": "code",
      "source": [
        "d = {0:10, 1:20}\n",
        "print('Original version: ',d)\n",
        "x = int(input('Enter a new key:'))\n",
        "y = int(input('Enter value for the new key: '))\n",
        "d.update({x:y})\n",
        "print('The new version', d)"
      ],
      "metadata": {
        "colab": {
          "base_uri": "https://localhost:8080/"
        },
        "id": "3Zo7-jJZZs1n",
        "outputId": "e10c0321-a80f-446f-ead6-a6c2e58e131c"
      },
      "execution_count": 32,
      "outputs": [
        {
          "output_type": "stream",
          "name": "stdout",
          "text": [
            "Original version:  {0: 10, 1: 20}\n",
            "Enter a new key:4\n",
            "Enter value for the new key: 40\n",
            "The new version {0: 10, 1: 20, 4: 40}\n"
          ]
        }
      ]
    },
    {
      "cell_type": "markdown",
      "source": [
        "Problem 10\n"
      ],
      "metadata": {
        "id": "frm_g5A6bCxw"
      }
    },
    {
      "cell_type": "code",
      "source": [
        "import pandas as pd\n",
        "import numpy as np \n",
        "\n",
        "exam_data = {'name': ['Arif', 'Asir', 'Arik', 'Anis', 'Anil', 'Ashish', 'Anahi', 'Alia', 'Alvin', 'Asim'],\n",
        "             'score': [12.5, 9, 16.5, np.nan, 9, 20, 14.5, np.nan, 8, 19], \n",
        "              'attempts': [1, 3, 2, 3, 2, 3, 1, 1, 2, 1], \n",
        "              'qualify': ['yes', 'no', 'yes', 'no', 'no', 'yes', 'yes', 'no', 'no', 'yes']} \n",
        "labels = ['a', 'b', 'c', 'd', 'e', 'f', 'g', 'h', 'i', 'j']\n",
        "\n",
        "df = pd.DataFrame(exam_data, index= Sl_no)\n",
        "print(df)"
      ],
      "metadata": {
        "colab": {
          "base_uri": "https://localhost:8080/"
        },
        "id": "_yqN_BcZbD5_",
        "outputId": "51a003c7-9697-41ff-88d6-0c30b5d7f976"
      },
      "execution_count": 34,
      "outputs": [
        {
          "output_type": "stream",
          "name": "stdout",
          "text": [
            "      name  score  attempts qualify\n",
            "1     Arif   12.5         1     yes\n",
            "2     Asir    9.0         3      no\n",
            "3     Arik   16.5         2     yes\n",
            "4     Anis    NaN         3      no\n",
            "5     Anil    9.0         2      no\n",
            "6   Ashish   20.0         3     yes\n",
            "7    Anahi   14.5         1     yes\n",
            "8     Alia    NaN         1      no\n",
            "9    Alvin    8.0         2      no\n",
            "10    Asim   19.0         1     yes\n"
          ]
        }
      ]
    }
  ]
}